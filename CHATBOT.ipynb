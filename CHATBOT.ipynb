{
  "nbformat": 4,
  "nbformat_minor": 0,
  "metadata": {
    "colab": {
      "provenance": [],
      "authorship_tag": "ABX9TyNxPtpFikdYYnaKcTlv+kNI",
      "include_colab_link": true
    },
    "kernelspec": {
      "name": "python3",
      "display_name": "Python 3"
    },
    "language_info": {
      "name": "python"
    }
  },
  "cells": [
    {
      "cell_type": "markdown",
      "metadata": {
        "id": "view-in-github",
        "colab_type": "text"
      },
      "source": [
        "<a href=\"https://colab.research.google.com/github/Ebonica/SYNC-INTERN-S-MACHINE-LEARNING-/blob/main/CHATBOT.ipynb\" target=\"_parent\"><img src=\"https://colab.research.google.com/assets/colab-badge.svg\" alt=\"Open In Colab\"/></a>"
      ]
    },
    {
      "cell_type": "code",
      "source": [
        "pip install pandas numpy scikit-learn\n"
      ],
      "metadata": {
        "colab": {
          "base_uri": "https://localhost:8080/"
        },
        "id": "TVC8VS2QxvIi",
        "outputId": "d6127265-b2a6-4906-a792-b414fed3ae08"
      },
      "execution_count": 9,
      "outputs": [
        {
          "output_type": "stream",
          "name": "stdout",
          "text": [
            "Requirement already satisfied: pandas in /usr/local/lib/python3.10/dist-packages (1.5.3)\n",
            "Requirement already satisfied: numpy in /usr/local/lib/python3.10/dist-packages (1.23.5)\n",
            "Requirement already satisfied: scikit-learn in /usr/local/lib/python3.10/dist-packages (1.2.2)\n",
            "Requirement already satisfied: python-dateutil>=2.8.1 in /usr/local/lib/python3.10/dist-packages (from pandas) (2.8.2)\n",
            "Requirement already satisfied: pytz>=2020.1 in /usr/local/lib/python3.10/dist-packages (from pandas) (2023.3)\n",
            "Requirement already satisfied: scipy>=1.3.2 in /usr/local/lib/python3.10/dist-packages (from scikit-learn) (1.10.1)\n",
            "Requirement already satisfied: joblib>=1.1.1 in /usr/local/lib/python3.10/dist-packages (from scikit-learn) (1.3.2)\n",
            "Requirement already satisfied: threadpoolctl>=2.0.0 in /usr/local/lib/python3.10/dist-packages (from scikit-learn) (3.2.0)\n",
            "Requirement already satisfied: six>=1.5 in /usr/local/lib/python3.10/dist-packages (from python-dateutil>=2.8.1->pandas) (1.16.0)\n"
          ]
        }
      ]
    },
    {
      "cell_type": "code",
      "source": [
        "import pandas as pd\n",
        "from sklearn.feature_extraction.text import TfidfVectorizer\n",
        "from sklearn.metrics.pairwise import cosine_similarity\n",
        "from sklearn.preprocessing import normalize\n",
        "\n",
        "# Loading the dataset\n",
        "df = pd.read_csv('AI.csv')\n",
        "\n",
        "# Preprocessing the data\n",
        "def preprocess(text):\n",
        "    return text.lower()\n",
        "\n",
        "df['Question'] = df['Question'].apply(preprocess)\n",
        "\n",
        "# Creating TF-IDF vectors\n",
        "tfidf_vectorizer = TfidfVectorizer()\n",
        "tfidf_matrix = tfidf_vectorizer.fit_transform(df['Question'])\n",
        "tfidf_matrix = normalize(tfidf_matrix)\n",
        "\n",
        "# Function to generate responses\n",
        "def generate_response(input_text):\n",
        "    input_text = preprocess(input_text)\n",
        "    input_vector = tfidf_vectorizer.transform([input_text])\n",
        "    input_vector = normalize(input_vector)\n",
        "\n",
        "    cosine_similarities = cosine_similarity(input_vector, tfidf_matrix)\n",
        "    most_similar_idx = cosine_similarities.argmax()\n",
        "\n",
        "    return df['Answer'].iloc[most_similar_idx]\n",
        "\n",
        "# Chat with the bot\n",
        "print(\"Chatbot: Hi! How can I assist you today? (type 'exit' to end)\")\n",
        "while True:\n",
        "    user_input = input(\"You: \")\n",
        "    if user_input.lower() == 'exit':\n",
        "        print(\"Chatbot: Goodbye!\")\n",
        "        break\n",
        "    response = generate_response(user_input)\n",
        "    print(f\"Chatbot: {response}\")\n"
      ],
      "metadata": {
        "colab": {
          "base_uri": "https://localhost:8080/"
        },
        "id": "cAfzIUZQxwV3",
        "outputId": "2d938e34-a104-4f7a-b056-e9e9369becbe"
      },
      "execution_count": 13,
      "outputs": [
        {
          "output_type": "stream",
          "name": "stdout",
          "text": [
            "Chatbot: Hi! How can I assist you today? (type 'exit' to end)\n",
            "You: Who presented the Logic Theorist (LT)?\t\n",
            "Chatbot: Allen Newell and Herbert Simon from Carnegie Tech.\n",
            "\n",
            "You: Who formulate the famous physical symbol system hypothesis?\t\n",
            "Chatbot: Allen Newell and Herbert Simon.\n",
            "\n",
            "You: Who constructed the Geometry Theorem Prover?\n",
            "Chatbot: Herbert Gelernter (1959).\n",
            "\n",
            "You: What is the first neural network called?\n",
            "Chatbot: The SNARC.\n",
            "\n",
            "You: When the first neural network is built?\n",
            "Chatbot: 1950.\n",
            "\n",
            "You: exit\n",
            "Chatbot: Goodbye!\n"
          ]
        }
      ]
    }
  ]
}